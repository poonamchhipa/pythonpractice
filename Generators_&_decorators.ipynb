{
  "nbformat": 4,
  "nbformat_minor": 0,
  "metadata": {
    "colab": {
      "provenance": []
    },
    "kernelspec": {
      "name": "python3",
      "display_name": "Python 3"
    },
    "language_info": {
      "name": "python"
    }
  },
  "cells": [
    {
      "cell_type": "code",
      "execution_count": null,
      "metadata": {
        "id": "qe6JQNI4fadL"
      },
      "outputs": [],
      "source": [
        "#Generators=>are special functions which remember the last state"
      ]
    },
    {
      "cell_type": "code",
      "source": [
        "def func():\n",
        "  return \"abc\"\n",
        "  print(\"hey\")"
      ],
      "metadata": {
        "id": "ByCSXnOMfjM8"
      },
      "execution_count": null,
      "outputs": []
    },
    {
      "cell_type": "code",
      "source": [
        "x=func()\n",
        "print(x)#return k bad wali value kabhi written nahi hoti"
      ],
      "metadata": {
        "colab": {
          "base_uri": "https://localhost:8080/"
        },
        "id": "teP17JdBf34Z",
        "outputId": "d79c8de4-2401-4e53-fc41-edb93bc7961e"
      },
      "execution_count": null,
      "outputs": [
        {
          "output_type": "stream",
          "name": "stdout",
          "text": [
            "abc\n"
          ]
        }
      ]
    },
    {
      "cell_type": "code",
      "source": [
        "def func():\n",
        "  print(\"first line\")\n",
        "  yield 1\n",
        "  print(\"next line\")\n",
        "  yield 2  #in generator we write yield in place of return"
      ],
      "metadata": {
        "id": "Weu8s05xf6C8"
      },
      "execution_count": null,
      "outputs": []
    },
    {
      "cell_type": "code",
      "source": [
        "generator=func()\n",
        "next(generator)\n",
        "next(generator)\n",
        "#or\n",
        "#print(next(generator)) #only run on jupyter notebook"
      ],
      "metadata": {
        "colab": {
          "base_uri": "https://localhost:8080/"
        },
        "id": "Kd2hz8qXggbG",
        "outputId": "d9ebb9b6-0fcc-4310-a2cf-186a73fde745"
      },
      "execution_count": null,
      "outputs": [
        {
          "output_type": "stream",
          "name": "stdout",
          "text": [
            "first line\n",
            "next line\n"
          ]
        },
        {
          "output_type": "execute_result",
          "data": {
            "text/plain": [
              "2"
            ]
          },
          "metadata": {},
          "execution_count": 12
        }
      ]
    },
    {
      "cell_type": "code",
      "source": [
        "#stop iteration error=>agr last m geneartor ne koi value nahi di to"
      ],
      "metadata": {
        "id": "BFR9PFrWgkPI"
      },
      "execution_count": null,
      "outputs": []
    },
    {
      "cell_type": "code",
      "source": [
        "a=0\n",
        "b=1\n",
        "b=a+b\n"
      ],
      "metadata": {
        "id": "rYAha12aibrL"
      },
      "execution_count": null,
      "outputs": []
    },
    {
      "cell_type": "code",
      "source": [
        "def fibonacci_generator(n):\n",
        "    a=0\n",
        "    b=1\n",
        "    for i in range(n):\n",
        "        yield a\n",
        "        a,b=b,a+b\n",
        "n=10\n",
        "for i in fibonacci_generator(n):\n",
        "    print(i)"
      ],
      "metadata": {
        "colab": {
          "base_uri": "https://localhost:8080/"
        },
        "id": "-bb0z0EpjVSl",
        "outputId": "9ba8a309-2c52-4ff8-9361-6fa1c1195cf4"
      },
      "execution_count": null,
      "outputs": [
        {
          "output_type": "stream",
          "name": "stdout",
          "text": [
            "0\n",
            "1\n",
            "1\n",
            "2\n",
            "3\n",
            "5\n",
            "8\n",
            "13\n",
            "21\n",
            "34\n"
          ]
        }
      ]
    },
    {
      "cell_type": "code",
      "source": [
        "#fibonaccie series using generator=>\n",
        "def func():\n",
        "  a=0\n",
        "  b=1\n",
        "  for i in range(1,10):\n",
        "    yield a\n",
        "    c=a+b\n",
        "    a=b\n",
        "    b=c\n",
        "gen=func() #calling using generator\n",
        "for i in gen:\n",
        "  print(i)"
      ],
      "metadata": {
        "colab": {
          "base_uri": "https://localhost:8080/"
        },
        "id": "jhsYype6jiPR",
        "outputId": "4b68e48c-40df-41b4-f88b-8c77d4cb5d28"
      },
      "execution_count": null,
      "outputs": [
        {
          "output_type": "stream",
          "name": "stdout",
          "text": [
            "0\n",
            "1\n",
            "1\n",
            "2\n",
            "3\n",
            "5\n",
            "8\n",
            "13\n",
            "21\n"
          ]
        }
      ]
    },
    {
      "cell_type": "code",
      "source": [
        "#iterable vs iterator"
      ],
      "metadata": {
        "id": "PkevdCt_ls8b"
      },
      "execution_count": null,
      "outputs": []
    },
    {
      "cell_type": "code",
      "source": [
        "def func_add(num):\n",
        "  def add_one(n):\n",
        "    print(\"n value\",n)\n",
        "  return \"abc\""
      ],
      "metadata": {
        "id": "1I7g6-IymWMD"
      },
      "execution_count": null,
      "outputs": []
    },
    {
      "cell_type": "code",
      "source": [
        "output=func_add(10)\n",
        "print(output)"
      ],
      "metadata": {
        "colab": {
          "base_uri": "https://localhost:8080/"
        },
        "id": "42hyU4-dndcZ",
        "outputId": "0aae7291-5c01-4552-b63d-20cf20ddd3ab"
      },
      "execution_count": null,
      "outputs": [
        {
          "output_type": "stream",
          "name": "stdout",
          "text": [
            "abc\n"
          ]
        }
      ]
    },
    {
      "cell_type": "code",
      "source": [
        "def func_add(num):\n",
        "  def add_one(n): #required argument\n",
        "    print(\"n value\",n)\n",
        "  return add_one"
      ],
      "metadata": {
        "id": "GcI9c2W0nyq6"
      },
      "execution_count": null,
      "outputs": []
    },
    {
      "cell_type": "code",
      "source": [
        "output=func_add(10)\n",
        "print(output)"
      ],
      "metadata": {
        "colab": {
          "base_uri": "https://localhost:8080/"
        },
        "id": "x2zQmxK3ojYU",
        "outputId": "cd1c8bee-802f-459b-dcca-3b92ef2e2382"
      },
      "execution_count": null,
      "outputs": [
        {
          "output_type": "stream",
          "name": "stdout",
          "text": [
            "<function func_add.<locals>.add_one at 0x7dbdfed79300>\n"
          ]
        }
      ]
    },
    {
      "cell_type": "code",
      "source": [
        "output=func_add(10)\n",
        "output(19)"
      ],
      "metadata": {
        "colab": {
          "base_uri": "https://localhost:8080/"
        },
        "id": "h9pHDkRPorJF",
        "outputId": "6db9b97e-e6b8-461b-9154-e1e7fcad16ac"
      },
      "execution_count": null,
      "outputs": [
        {
          "output_type": "stream",
          "name": "stdout",
          "text": [
            "n value 19\n"
          ]
        }
      ]
    },
    {
      "cell_type": "code",
      "source": [
        "def func_add(num):\n",
        "  def add_one(n): #required argument\n",
        "    print(\"n value\",n,num)\n",
        "  return add_one"
      ],
      "metadata": {
        "id": "OxRKA43Ao6PC"
      },
      "execution_count": null,
      "outputs": []
    },
    {
      "cell_type": "code",
      "source": [
        "output=func_add(10)\n",
        "output(19)"
      ],
      "metadata": {
        "colab": {
          "base_uri": "https://localhost:8080/"
        },
        "id": "GtNIgEQbpYw8",
        "outputId": "1c8af62d-ba92-429c-e745-590cd12d25ff"
      },
      "execution_count": null,
      "outputs": [
        {
          "output_type": "stream",
          "name": "stdout",
          "text": [
            "n value 19 10\n"
          ]
        }
      ]
    },
    {
      "cell_type": "code",
      "source": [
        "def func_add(func):\n",
        "  def add_one():\n",
        "    print(\"func value\",func)\n",
        "  return add_one\n",
        "#normal function\n",
        "def test():\n",
        "  return \"hey\""
      ],
      "metadata": {
        "id": "xDLf7sJqqyDz"
      },
      "execution_count": null,
      "outputs": []
    },
    {
      "cell_type": "code",
      "source": [
        "output=func_add(test)\n",
        "output()"
      ],
      "metadata": {
        "colab": {
          "base_uri": "https://localhost:8080/"
        },
        "id": "VnnyCxbrq6Cx",
        "outputId": "cf5088cb-024f-4ef0-bdb4-f99a1fdfcd15"
      },
      "execution_count": null,
      "outputs": [
        {
          "output_type": "stream",
          "name": "stdout",
          "text": [
            "n value <function test at 0x7dbdfed78400>\n"
          ]
        }
      ]
    },
    {
      "cell_type": "code",
      "source": [
        "def func_add(func):\n",
        "  def add_one():\n",
        "    print(\"inside add_on func value=>\",func())\n",
        "  return add_one\n",
        "#normal function\n",
        "def test():\n",
        "  return \"hello\""
      ],
      "metadata": {
        "id": "miIlTffWq8cD"
      },
      "execution_count": null,
      "outputs": []
    },
    {
      "cell_type": "code",
      "source": [
        "output=func_add(test)\n",
        "output()"
      ],
      "metadata": {
        "colab": {
          "base_uri": "https://localhost:8080/"
        },
        "id": "tAT3vXU8rzB2",
        "outputId": "5aaea1b2-3863-49ae-f636-e765bf566af7"
      },
      "execution_count": null,
      "outputs": [
        {
          "output_type": "stream",
          "name": "stdout",
          "text": [
            "inside add_on func value=> hello\n"
          ]
        }
      ]
    },
    {
      "cell_type": "code",
      "source": [
        "def func_add(func):\n",
        "  def add_one():\n",
        "    result=func()\n",
        "    result2=result.upper()\n",
        "    return result2\n",
        "  return add_one\n",
        "#normal function\n",
        "def test():\n",
        "  return \"hello tushar\""
      ],
      "metadata": {
        "id": "oxrPof1ir0gi"
      },
      "execution_count": null,
      "outputs": []
    },
    {
      "cell_type": "code",
      "source": [
        "output=func_add(test)\n",
        "output()"
      ],
      "metadata": {
        "colab": {
          "base_uri": "https://localhost:8080/",
          "height": 35
        },
        "id": "4WYMYDwOsX6t",
        "outputId": "02396691-0111-4b7e-ec36-90315c06ee88"
      },
      "execution_count": null,
      "outputs": [
        {
          "output_type": "execute_result",
          "data": {
            "text/plain": [
              "'HELLO TUSHAR'"
            ],
            "application/vnd.google.colaboratory.intrinsic+json": {
              "type": "string"
            }
          },
          "metadata": {},
          "execution_count": 71
        }
      ]
    },
    {
      "cell_type": "code",
      "source": [
        "def func_add(func):\n",
        "  def add_one():\n",
        "    result=func()\n",
        "    result2=result.upper()\n",
        "    return result2\n",
        "  return add_one\n",
        "#normal function\n",
        "@func_add\n",
        "def test():\n",
        "  return \"hello tushar\""
      ],
      "metadata": {
        "id": "AEBoivg6seLe"
      },
      "execution_count": null,
      "outputs": []
    },
    {
      "cell_type": "code",
      "source": [
        "test()"
      ],
      "metadata": {
        "colab": {
          "base_uri": "https://localhost:8080/",
          "height": 35
        },
        "id": "ojmHJ9-2tyrM",
        "outputId": "cc142e38-610b-4e1c-baf4-21ac8ff81193"
      },
      "execution_count": null,
      "outputs": [
        {
          "output_type": "execute_result",
          "data": {
            "text/plain": [
              "'HELLO TUSHAR'"
            ],
            "application/vnd.google.colaboratory.intrinsic+json": {
              "type": "string"
            }
          },
          "metadata": {},
          "execution_count": 73
        }
      ]
    },
    {
      "cell_type": "code",
      "source": [],
      "metadata": {
        "id": "cz-D4mVgtzrE"
      },
      "execution_count": null,
      "outputs": []
    }
  ]
}