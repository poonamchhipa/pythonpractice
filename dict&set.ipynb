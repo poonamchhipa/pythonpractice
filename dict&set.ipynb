{
  "nbformat": 4,
  "nbformat_minor": 0,
  "metadata": {
    "colab": {
      "provenance": []
    },
    "kernelspec": {
      "name": "python3",
      "display_name": "Python 3"
    },
    "language_info": {
      "name": "python"
    }
  },
  "cells": [
    {
      "cell_type": "code",
      "source": [
        "#dictionary=>ordered collection of elements\n",
        "#dict is stored in key-value pair\n",
        "#- key should be unique always\n",
        "#- dict is mutable but keys are always immutable"
      ],
      "metadata": {
        "id": "DfI1PE1EZYYl"
      },
      "execution_count": null,
      "outputs": []
    },
    {
      "cell_type": "code",
      "execution_count": 1,
      "metadata": {
        "id": "EQ29AyXzOpBm",
        "colab": {
          "base_uri": "https://localhost:8080/"
        },
        "outputId": "422ec0d3-dc36-4b23-e0ce-f8b7cd981deb"
      },
      "outputs": [
        {
          "output_type": "stream",
          "name": "stdout",
          "text": [
            "{'name': 'Alice', 'age': 25, 'city': 'New York'}\n"
          ]
        }
      ],
      "source": [
        "my_dict={ \"name\": \"Alice\",\n",
        "    \"age\": 25,\n",
        "    \"city\": \"New York\"}\n",
        "print(my_dict)"
      ]
    },
    {
      "cell_type": "code",
      "source": [
        "my_dict2={\"name\":\"Bob\",\n",
        "          \"age\":30,\n",
        "          \"city\":\"London\"}\n",
        "print(my_dict2)"
      ],
      "metadata": {
        "colab": {
          "base_uri": "https://localhost:8080/"
        },
        "id": "-mNL5_cJVxxD",
        "outputId": "f76c9d10-26fe-4ef5-8980-552cf8d28660"
      },
      "execution_count": 2,
      "outputs": [
        {
          "output_type": "stream",
          "name": "stdout",
          "text": [
            "{'name': 'Bob', 'age': 30, 'city': 'London'}\n"
          ]
        }
      ]
    },
    {
      "cell_type": "code",
      "source": [
        "my_dict.get('name') #accessing values through keys"
      ],
      "metadata": {
        "colab": {
          "base_uri": "https://localhost:8080/",
          "height": 35
        },
        "id": "gUHHcZzbWLVm",
        "outputId": "c4561566-322c-4840-ed91-116bf6555b21"
      },
      "execution_count": 4,
      "outputs": [
        {
          "output_type": "execute_result",
          "data": {
            "text/plain": [
              "'Alice'"
            ],
            "application/vnd.google.colaboratory.intrinsic+json": {
              "type": "string"
            }
          },
          "metadata": {},
          "execution_count": 4
        }
      ]
    },
    {
      "cell_type": "code",
      "source": [
        "my_dict2.get('age')"
      ],
      "metadata": {
        "colab": {
          "base_uri": "https://localhost:8080/"
        },
        "id": "GKS3jp_iWSuh",
        "outputId": "d7a5f58d-a291-4279-9858-8e6f63bce62c"
      },
      "execution_count": 5,
      "outputs": [
        {
          "output_type": "execute_result",
          "data": {
            "text/plain": [
              "30"
            ]
          },
          "metadata": {},
          "execution_count": 5
        }
      ]
    },
    {
      "cell_type": "code",
      "source": [
        "#for update=>\n",
        "my_dict[\"city\"] = \"disneyland\"  # Adds new key-value pair\n",
        "my_dict[\"age\"] = 26  # Updates age\n",
        "print(my_dict)"
      ],
      "metadata": {
        "colab": {
          "base_uri": "https://localhost:8080/"
        },
        "id": "aNwB9ZxjWYn9",
        "outputId": "68402ddd-8dea-4da0-fe73-c146914d0b37"
      },
      "execution_count": 7,
      "outputs": [
        {
          "output_type": "stream",
          "name": "stdout",
          "text": [
            "{'name': 'Alice', 'age': 26, 'city': 'disneyland'}\n"
          ]
        }
      ]
    },
    {
      "cell_type": "code",
      "source": [
        "#adds new key-value pair\n",
        "my_dict.update({\"age\": 27, \"gender\": \"Female\"})\n",
        "print(my_dict)"
      ],
      "metadata": {
        "colab": {
          "base_uri": "https://localhost:8080/"
        },
        "id": "JmAhz1s4Ww5o",
        "outputId": "71a8b8f9-0682-4383-a87a-b3159577e9c0"
      },
      "execution_count": 9,
      "outputs": [
        {
          "output_type": "stream",
          "name": "stdout",
          "text": [
            "{'name': 'Alice', 'age': 27, 'city': 'disneyland', 'gender': 'Female'}\n"
          ]
        }
      ]
    },
    {
      "cell_type": "code",
      "source": [
        "#Removing Elements\n",
        "my_dict.pop(\"age\")\n",
        "print(my_dict)"
      ],
      "metadata": {
        "colab": {
          "base_uri": "https://localhost:8080/"
        },
        "id": "eZK02FmsW7dK",
        "outputId": "b83ed844-c2a5-4e9a-a847-87bf37bd2af2"
      },
      "execution_count": 17,
      "outputs": [
        {
          "output_type": "stream",
          "name": "stdout",
          "text": [
            "{'name': 'Alice', 'city': 'disneyland', 'gender': 'Female'}\n"
          ]
        }
      ]
    },
    {
      "cell_type": "code",
      "source": [
        "my_dict.popitem()\n",
        "print(my_dict)  # delete Last inserted item(key-value pair)\n"
      ],
      "metadata": {
        "colab": {
          "base_uri": "https://localhost:8080/"
        },
        "id": "GE_0M_t8XF0d",
        "outputId": "a346a57a-19a9-4f67-b7e2-167bbef59491"
      },
      "execution_count": 18,
      "outputs": [
        {
          "output_type": "stream",
          "name": "stdout",
          "text": [
            "{'name': 'Alice', 'city': 'disneyland'}\n"
          ]
        }
      ]
    },
    {
      "cell_type": "code",
      "source": [
        "del my_dict[\"city\"]\n",
        "print(my_dict)  # delete specific item"
      ],
      "metadata": {
        "colab": {
          "base_uri": "https://localhost:8080/"
        },
        "id": "dNUDtdAwX1Sf",
        "outputId": "094971e8-c8d5-49ea-f469-ae8d010deae3"
      },
      "execution_count": 21,
      "outputs": [
        {
          "output_type": "stream",
          "name": "stdout",
          "text": [
            "{'name': 'Alice'}\n"
          ]
        }
      ]
    },
    {
      "cell_type": "code",
      "source": [
        "# Removes all elements from the dictionary.\n",
        "my_dict.clear()\n",
        "print(my_dict)"
      ],
      "metadata": {
        "colab": {
          "base_uri": "https://localhost:8080/"
        },
        "id": "Qymoq-OCX__h",
        "outputId": "f10cedef-ff91-4eed-a28b-79f4d2ba477d"
      },
      "execution_count": 23,
      "outputs": [
        {
          "output_type": "stream",
          "name": "stdout",
          "text": [
            "{}\n"
          ]
        }
      ]
    },
    {
      "cell_type": "code",
      "source": [
        "my_dict={ \"name\": \"Alice\",\n",
        "    \"age\": 25,\n",
        "    \"city\": \"New York\"}\n",
        "print(my_dict)"
      ],
      "metadata": {
        "colab": {
          "base_uri": "https://localhost:8080/"
        },
        "id": "YfQHa4kjYSbn",
        "outputId": "40640630-d586-48da-98af-e09e924e0e65"
      },
      "execution_count": 24,
      "outputs": [
        {
          "output_type": "stream",
          "name": "stdout",
          "text": [
            "{'name': 'Alice', 'age': 25, 'city': 'New York'}\n"
          ]
        }
      ]
    },
    {
      "cell_type": "code",
      "source": [
        "#checks if a key exists\n",
        "print(\"name\" in my_dict)  # True\n",
        "print(\"salary\" in my_dict)  # False"
      ],
      "metadata": {
        "colab": {
          "base_uri": "https://localhost:8080/"
        },
        "id": "wXmoS0WCYhKX",
        "outputId": "8884ad37-c513-43d3-b206-ed1a5a2a5533"
      },
      "execution_count": 26,
      "outputs": [
        {
          "output_type": "stream",
          "name": "stdout",
          "text": [
            "True\n",
            "False\n"
          ]
        }
      ]
    },
    {
      "cell_type": "code",
      "source": [],
      "metadata": {
        "id": "Q9IvoboYYyir"
      },
      "execution_count": null,
      "outputs": []
    },
    {
      "cell_type": "code",
      "source": [
        "print(my_dict.keys())\n",
        "print(my_dict.values())\n",
        "print(my_dict.items())"
      ],
      "metadata": {
        "colab": {
          "base_uri": "https://localhost:8080/"
        },
        "id": "lq4pZVVpYjzr",
        "outputId": "44109f9a-8c9a-49e3-e08d-c6d5a31b612c"
      },
      "execution_count": 31,
      "outputs": [
        {
          "output_type": "stream",
          "name": "stdout",
          "text": [
            "dict_keys(['name', 'age', 'city'])\n",
            "dict_values(['Alice', 25, 'New York'])\n",
            "dict_items([('name', 'Alice'), ('age', 25), ('city', 'New York')])\n"
          ]
        }
      ]
    },
    {
      "cell_type": "code",
      "source": [
        "new_dict = my_dict.copy()  #creates a shallow copy of dictionary\n",
        "print(new_dict)"
      ],
      "metadata": {
        "colab": {
          "base_uri": "https://localhost:8080/"
        },
        "id": "Cv0axpCSYuzi",
        "outputId": "f34d4324-7f37-4554-9b9f-3cb25c46e371"
      },
      "execution_count": 33,
      "outputs": [
        {
          "output_type": "stream",
          "name": "stdout",
          "text": [
            "{'name': 'Alice', 'age': 25, 'city': 'New York'}\n"
          ]
        }
      ]
    },
    {
      "cell_type": "code",
      "source": [
        "#leetcode Q.=>integer to roman in dict\n",
        "num=int(input(\"enter number\"))\n",
        "roman_dict = {\n",
        "    1000: \"M\", 900: \"CM\", 500: \"D\", 400: \"CD\",\n",
        "    100: \"C\", 90: \"XC\", 50: \"L\", 40: \"XL\",\n",
        "    10: \"X\", 9: \"IX\", 5: \"V\", 4: \"IV\", 1: \"I\"\n",
        "}\n",
        "roman = \"\"\n",
        "for value, symbol in roman_dict.items():\n",
        "    while num >= value:\n",
        "        roman += symbol\n",
        "        num -= value\n",
        "print(\"Roman numeral:\", roman)"
      ],
      "metadata": {
        "colab": {
          "base_uri": "https://localhost:8080/"
        },
        "id": "ms2PDn4-ZSGO",
        "outputId": "d1f42e6a-a37e-4d9b-828f-17c8641d8468"
      },
      "execution_count": 34,
      "outputs": [
        {
          "output_type": "stream",
          "name": "stdout",
          "text": [
            "enter number3\n",
            "Roman numeral: III\n"
          ]
        }
      ]
    },
    {
      "cell_type": "code",
      "source": [
        "#Set=>\n",
        "#set can be formed using {} or set()\n",
        "#unordered collection of elements(cannot access its elements using index)\n",
        "#does not allow duplicate values\n",
        "#set is mutable data type(we can add,modify or remove elements)"
      ],
      "metadata": {
        "id": "iNJo9C-7Z41V"
      },
      "execution_count": 36,
      "outputs": []
    },
    {
      "cell_type": "code",
      "source": [
        "my_set=set({})"
      ],
      "metadata": {
        "id": "o7wBhzlsaGxm"
      },
      "execution_count": 37,
      "outputs": []
    },
    {
      "cell_type": "code",
      "source": [
        "my_set = {10, 20, 30, 34, 10}\n",
        "print(my_set)"
      ],
      "metadata": {
        "colab": {
          "base_uri": "https://localhost:8080/"
        },
        "id": "oy4h4HThas-u",
        "outputId": "eb63009e-b5ca-4402-f90b-071d9d0971bf"
      },
      "execution_count": 38,
      "outputs": [
        {
          "output_type": "stream",
          "name": "stdout",
          "text": [
            "{10, 20, 34, 30}\n"
          ]
        }
      ]
    },
    {
      "cell_type": "code",
      "source": [
        "my_set.add(50)  #can add only one element\n",
        "print(my_set)"
      ],
      "metadata": {
        "colab": {
          "base_uri": "https://localhost:8080/"
        },
        "id": "nmOq9EmlayWP",
        "outputId": "8208dfcd-b3be-450f-acba-925301c46c8a"
      },
      "execution_count": 39,
      "outputs": [
        {
          "output_type": "stream",
          "name": "stdout",
          "text": [
            "{34, 10, 50, 20, 30}\n"
          ]
        }
      ]
    },
    {
      "cell_type": "code",
      "source": [
        "my_set = {10, 20, 30, 34, 10}\n",
        "my_set.update({100,200})  #can add multiple elements\n",
        "print(my_set)"
      ],
      "metadata": {
        "colab": {
          "base_uri": "https://localhost:8080/"
        },
        "id": "AkHh8mWma0xI",
        "outputId": "de3be20d-fa65-46bb-fa49-701095d9d485"
      },
      "execution_count": 40,
      "outputs": [
        {
          "output_type": "stream",
          "name": "stdout",
          "text": [
            "{34, 20, 100, 200, 10, 30}\n"
          ]
        }
      ]
    },
    {
      "cell_type": "code",
      "source": [
        "my_set.pop()"
      ],
      "metadata": {
        "colab": {
          "base_uri": "https://localhost:8080/"
        },
        "id": "ejHrcw0_a3hV",
        "outputId": "1927bb59-792e-4673-b653-4120fc84ab7e"
      },
      "execution_count": 42,
      "outputs": [
        {
          "output_type": "execute_result",
          "data": {
            "text/plain": [
              "20"
            ]
          },
          "metadata": {},
          "execution_count": 42
        }
      ]
    },
    {
      "cell_type": "code",
      "source": [
        "my_set.remove(100)# we written value not index\n",
        "print(my_set)"
      ],
      "metadata": {
        "colab": {
          "base_uri": "https://localhost:8080/"
        },
        "id": "salXoQfua5tp",
        "outputId": "6e419513-49ae-4f14-d5ba-57c2b4e6594d"
      },
      "execution_count": 43,
      "outputs": [
        {
          "output_type": "stream",
          "name": "stdout",
          "text": [
            "{200, 10, 30}\n"
          ]
        }
      ]
    },
    {
      "cell_type": "code",
      "source": [
        "my_set={10,20,30,40,50}\n",
        "my_set2={30,40,50}\n",
        "my_set.union(my_set2)"
      ],
      "metadata": {
        "colab": {
          "base_uri": "https://localhost:8080/"
        },
        "id": "YABGBuzzbA7y",
        "outputId": "ead99d96-324e-4321-cade-33ab265bfb4e"
      },
      "execution_count": 44,
      "outputs": [
        {
          "output_type": "execute_result",
          "data": {
            "text/plain": [
              "{10, 20, 30, 40, 50}"
            ]
          },
          "metadata": {},
          "execution_count": 44
        }
      ]
    },
    {
      "cell_type": "code",
      "source": [
        "my_set={10,20,30,40,50}\n",
        "my_set2={30,40,50}\n",
        "my_set.intersection(my_set2)"
      ],
      "metadata": {
        "colab": {
          "base_uri": "https://localhost:8080/"
        },
        "id": "eK4dMcDWbDZ5",
        "outputId": "98076a8a-2bf4-48fc-f7b0-bf6d848a8574"
      },
      "execution_count": 45,
      "outputs": [
        {
          "output_type": "execute_result",
          "data": {
            "text/plain": [
              "{30, 40, 50}"
            ]
          },
          "metadata": {},
          "execution_count": 45
        }
      ]
    },
    {
      "cell_type": "code",
      "source": [
        "my_set={10,20,30,40,50}\n",
        "my_set2={30,40,50}\n",
        "my_set.difference(my_set2)"
      ],
      "metadata": {
        "colab": {
          "base_uri": "https://localhost:8080/"
        },
        "id": "-Y0CJJnDbF-H",
        "outputId": "1cda6501-3369-4ff1-88ab-b761cfa1348d"
      },
      "execution_count": 46,
      "outputs": [
        {
          "output_type": "execute_result",
          "data": {
            "text/plain": [
              "{10, 20}"
            ]
          },
          "metadata": {},
          "execution_count": 46
        }
      ]
    },
    {
      "cell_type": "code",
      "source": [
        "my_set={10,20,30,40,50}\n",
        "my_set2={30,40,50}\n",
        "my_set.symmetric_difference(my_set2)"
      ],
      "metadata": {
        "colab": {
          "base_uri": "https://localhost:8080/"
        },
        "id": "85RgHbUjbIPB",
        "outputId": "26f74824-9f80-4989-9f87-415a03dc80ac"
      },
      "execution_count": 49,
      "outputs": [
        {
          "output_type": "execute_result",
          "data": {
            "text/plain": [
              "{10, 20}"
            ]
          },
          "metadata": {},
          "execution_count": 49
        }
      ]
    },
    {
      "cell_type": "code",
      "source": [
        "my_set={10,20,30,40,50}\n",
        "my_set2={30,40,50}\n",
        "my_set.issubset(my_set2)"
      ],
      "metadata": {
        "colab": {
          "base_uri": "https://localhost:8080/"
        },
        "id": "UjDuSACRbKAY",
        "outputId": "699f2d44-f152-4b69-f42a-27e1d1709b46"
      },
      "execution_count": 50,
      "outputs": [
        {
          "output_type": "execute_result",
          "data": {
            "text/plain": [
              "False"
            ]
          },
          "metadata": {},
          "execution_count": 50
        }
      ]
    },
    {
      "cell_type": "code",
      "source": [
        "my_set={10,20,30,40,50}\n",
        "my_set2={30,40,50}\n",
        "my_set.issuperset(my_set2)"
      ],
      "metadata": {
        "colab": {
          "base_uri": "https://localhost:8080/"
        },
        "id": "VXtkDRIKbUFG",
        "outputId": "b4706d8f-0077-4591-e081-e6090138c089"
      },
      "execution_count": 51,
      "outputs": [
        {
          "output_type": "execute_result",
          "data": {
            "text/plain": [
              "True"
            ]
          },
          "metadata": {},
          "execution_count": 51
        }
      ]
    },
    {
      "cell_type": "code",
      "source": [],
      "metadata": {
        "id": "9r-wuE_wbWho"
      },
      "execution_count": null,
      "outputs": []
    }
  ]
}