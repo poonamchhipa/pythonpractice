{
  "nbformat": 4,
  "nbformat_minor": 0,
  "metadata": {
    "colab": {
      "provenance": []
    },
    "kernelspec": {
      "name": "python3",
      "display_name": "Python 3"
    },
    "language_info": {
      "name": "python"
    }
  },
  "cells": [
    {
      "cell_type": "code",
      "execution_count": null,
      "metadata": {
        "id": "4RUiJQUsiAw0"
      },
      "outputs": [],
      "source": [
        "#functions=>collections of statements or block of code\n",
        "# write logic=use it multiple time\n",
        "#code reusability\n",
        "y=20\n",
        "def func():\n",
        "  x1=10 #variable\n",
        "  y=500\n",
        "  print(\"hey tushar\",x1,y)"
      ]
    },
    {
      "cell_type": "code",
      "source": [
        "func()\n",
        "print(\"outside function:\",y)"
      ],
      "metadata": {
        "colab": {
          "base_uri": "https://localhost:8080/"
        },
        "id": "a_veTOOwiG24",
        "outputId": "0198ab63-f5dd-48d0-eee0-7457adaf18f0"
      },
      "execution_count": null,
      "outputs": [
        {
          "output_type": "stream",
          "name": "stdout",
          "text": [
            "hey tushar 10 500\n",
            "outside function: 20\n"
          ]
        }
      ]
    },
    {
      "cell_type": "code",
      "source": [
        "y =20\n",
        "def func():\n",
        "    global y\n",
        "    x=\"niki\"\n",
        "    y=400\n",
        "    print('hey',x,y)\n",
        "\n",
        "func()\n",
        "print(y)"
      ],
      "metadata": {
        "colab": {
          "base_uri": "https://localhost:8080/"
        },
        "id": "dsQVp8OOiUWp",
        "outputId": "481c5844-be09-45bc-b7f2-31b9faad7937"
      },
      "execution_count": null,
      "outputs": [
        {
          "output_type": "stream",
          "name": "stdout",
          "text": [
            "hey niki 400\n",
            "400\n"
          ]
        }
      ]
    },
    {
      "cell_type": "code",
      "source": [
        "def func():\n",
        "  x1=10\n",
        "  print(\"hey tushar\")"
      ],
      "metadata": {
        "id": "L1UhMcAEiXA4"
      },
      "execution_count": null,
      "outputs": []
    },
    {
      "cell_type": "code",
      "source": [
        "#type hint=>\n",
        "def func(z:int,k:str) : #parameter\n",
        "  print(\"hey tushar\",z)"
      ],
      "metadata": {
        "id": "nJNK83_1iZ5T"
      },
      "execution_count": null,
      "outputs": []
    },
    {
      "cell_type": "code",
      "source": [
        "def func(x):\n",
        "  print(\"inside=>\" ,x.split(\" \")[-1])\n",
        "func(\"hey tushar this side\")"
      ],
      "metadata": {
        "id": "Py4wcOuAieiK",
        "colab": {
          "base_uri": "https://localhost:8080/"
        },
        "outputId": "36cf73b5-844a-431e-dd8f-3a5e7a3d3cb8"
      },
      "execution_count": null,
      "outputs": [
        {
          "output_type": "stream",
          "name": "stdout",
          "text": [
            "inside=> side\n"
          ]
        }
      ]
    },
    {
      "cell_type": "code",
      "source": [
        "u2=lambda x:x.split(\" \")[-1]\n",
        "u2(\"hey tushar this side\")"
      ],
      "metadata": {
        "colab": {
          "base_uri": "https://localhost:8080/",
          "height": 35
        },
        "id": "m6X8jG7tbe6y",
        "outputId": "3ba3b91e-0ac6-4d37-ac35-58a674a3948e"
      },
      "execution_count": null,
      "outputs": [
        {
          "output_type": "execute_result",
          "data": {
            "text/plain": [
              "'side'"
            ],
            "application/vnd.google.colaboratory.intrinsic+json": {
              "type": "string"
            }
          },
          "metadata": {},
          "execution_count": 3
        }
      ]
    },
    {
      "cell_type": "code",
      "source": [
        "\"\".join([\"hey user\"])"
      ],
      "metadata": {
        "colab": {
          "base_uri": "https://localhost:8080/",
          "height": 35
        },
        "id": "13ixoJEBckzE",
        "outputId": "eb71a78e-a60e-4739-c9c5-370172e17f0b"
      },
      "execution_count": null,
      "outputs": [
        {
          "output_type": "execute_result",
          "data": {
            "text/plain": [
              "'hey user'"
            ],
            "application/vnd.google.colaboratory.intrinsic+json": {
              "type": "string"
            }
          },
          "metadata": {},
          "execution_count": 6
        }
      ]
    },
    {
      "cell_type": "code",
      "source": [
        "#\"hey tushar here user\"=>\"user tushar here hey\"\n",
        "mylist=\"hey tushar here user\".split(\" \")\n",
        "print(mylist[-1],mylist[1:len(mylist)-1],mylist[0])\n",
        "\"\".join([mylist[-1],mylist[1:len(mylist)-1],mylist[0]])"
      ],
      "metadata": {
        "colab": {
          "base_uri": "https://localhost:8080/",
          "height": 193
        },
        "id": "kpsM_4sUbnqI",
        "outputId": "75b80117-0545-4ad9-adfe-8f5af5b9401f"
      },
      "execution_count": null,
      "outputs": [
        {
          "output_type": "stream",
          "name": "stdout",
          "text": [
            "user ['tushar', 'here'] hey\n"
          ]
        },
        {
          "output_type": "error",
          "ename": "TypeError",
          "evalue": "sequence item 1: expected str instance, list found",
          "traceback": [
            "\u001b[0;31m---------------------------------------------------------------------------\u001b[0m",
            "\u001b[0;31mTypeError\u001b[0m                                 Traceback (most recent call last)",
            "\u001b[0;32m<ipython-input-10-f94f9613e56a>\u001b[0m in \u001b[0;36m<cell line: 0>\u001b[0;34m()\u001b[0m\n\u001b[1;32m      2\u001b[0m \u001b[0mmylist\u001b[0m\u001b[0;34m=\u001b[0m\u001b[0;34m\"hey tushar here user\"\u001b[0m\u001b[0;34m.\u001b[0m\u001b[0msplit\u001b[0m\u001b[0;34m(\u001b[0m\u001b[0;34m\" \"\u001b[0m\u001b[0;34m)\u001b[0m\u001b[0;34m\u001b[0m\u001b[0;34m\u001b[0m\u001b[0m\n\u001b[1;32m      3\u001b[0m \u001b[0mprint\u001b[0m\u001b[0;34m(\u001b[0m\u001b[0mmylist\u001b[0m\u001b[0;34m[\u001b[0m\u001b[0;34m-\u001b[0m\u001b[0;36m1\u001b[0m\u001b[0;34m]\u001b[0m\u001b[0;34m,\u001b[0m\u001b[0mmylist\u001b[0m\u001b[0;34m[\u001b[0m\u001b[0;36m1\u001b[0m\u001b[0;34m:\u001b[0m\u001b[0mlen\u001b[0m\u001b[0;34m(\u001b[0m\u001b[0mmylist\u001b[0m\u001b[0;34m)\u001b[0m\u001b[0;34m-\u001b[0m\u001b[0;36m1\u001b[0m\u001b[0;34m]\u001b[0m\u001b[0;34m,\u001b[0m\u001b[0mmylist\u001b[0m\u001b[0;34m[\u001b[0m\u001b[0;36m0\u001b[0m\u001b[0;34m]\u001b[0m\u001b[0;34m)\u001b[0m\u001b[0;34m\u001b[0m\u001b[0;34m\u001b[0m\u001b[0m\n\u001b[0;32m----> 4\u001b[0;31m \u001b[0;34m\"\"\u001b[0m\u001b[0;34m.\u001b[0m\u001b[0mjoin\u001b[0m\u001b[0;34m(\u001b[0m\u001b[0;34m[\u001b[0m\u001b[0mmylist\u001b[0m\u001b[0;34m[\u001b[0m\u001b[0;34m-\u001b[0m\u001b[0;36m1\u001b[0m\u001b[0;34m]\u001b[0m\u001b[0;34m,\u001b[0m\u001b[0mmylist\u001b[0m\u001b[0;34m[\u001b[0m\u001b[0;36m1\u001b[0m\u001b[0;34m:\u001b[0m\u001b[0mlen\u001b[0m\u001b[0;34m(\u001b[0m\u001b[0mmylist\u001b[0m\u001b[0;34m)\u001b[0m\u001b[0;34m-\u001b[0m\u001b[0;36m1\u001b[0m\u001b[0;34m]\u001b[0m\u001b[0;34m,\u001b[0m\u001b[0mmylist\u001b[0m\u001b[0;34m[\u001b[0m\u001b[0;36m0\u001b[0m\u001b[0;34m]\u001b[0m\u001b[0;34m]\u001b[0m\u001b[0;34m)\u001b[0m\u001b[0;34m\u001b[0m\u001b[0;34m\u001b[0m\u001b[0m\n\u001b[0m",
            "\u001b[0;31mTypeError\u001b[0m: sequence item 1: expected str instance, list found"
          ]
        }
      ]
    },
    {
      "source": [
        "def func(a):\n",
        "  return \"inside\",a+5"
      ],
      "cell_type": "code",
      "metadata": {
        "id": "n8VlZ47ldESu"
      },
      "execution_count": null,
      "outputs": []
    },
    {
      "cell_type": "code",
      "source": [
        "print(func(18))"
      ],
      "metadata": {
        "colab": {
          "base_uri": "https://localhost:8080/"
        },
        "id": "ULg2y67HcMqH",
        "outputId": "ed3aa6db-9048-4970-f7a2-b214abc20cd8"
      },
      "execution_count": null,
      "outputs": [
        {
          "output_type": "stream",
          "name": "stdout",
          "text": [
            "('inside', 23)\n"
          ]
        }
      ]
    },
    {
      "cell_type": "code",
      "source": [
        "def func(a):\n",
        "  return a+5\n",
        "\n",
        "out=func(18)\n",
        "print(out)"
      ],
      "metadata": {
        "colab": {
          "base_uri": "https://localhost:8080/"
        },
        "id": "kjGqay6NdghK",
        "outputId": "96d81868-4e30-4802-9cd1-0b72819e9f0d"
      },
      "execution_count": null,
      "outputs": [
        {
          "output_type": "stream",
          "name": "stdout",
          "text": [
            "23\n"
          ]
        }
      ]
    },
    {
      "cell_type": "code",
      "source": [
        "def func(a):\n",
        "  return a+5"
      ],
      "metadata": {
        "id": "3I4Jy76zf-9y"
      },
      "execution_count": null,
      "outputs": []
    },
    {
      "cell_type": "code",
      "source": [
        "mylist=[10,102,3,4,56]"
      ],
      "metadata": {
        "id": "3FnuYjODfAwW"
      },
      "execution_count": null,
      "outputs": []
    },
    {
      "cell_type": "code",
      "source": [
        "# next(map(func,mylist))\n",
        "#or\n",
        "def func(a):\n",
        "  return a+5\n",
        "\n",
        "x=map(func,mylist)\n",
        "print(next(x))\n",
        "print(next(x))"
      ],
      "metadata": {
        "colab": {
          "base_uri": "https://localhost:8080/"
        },
        "id": "IUOPlLIPfNB8",
        "outputId": "ce30ad40-aa7c-43e0-c612-8526a511f200"
      },
      "execution_count": null,
      "outputs": [
        {
          "output_type": "stream",
          "name": "stdout",
          "text": [
            "15\n",
            "107\n"
          ]
        }
      ]
    },
    {
      "cell_type": "code",
      "source": [
        "x=map(lambda a:a+5,mylist)\n",
        "print(next(x))\n",
        "print(next(x))"
      ],
      "metadata": {
        "colab": {
          "base_uri": "https://localhost:8080/"
        },
        "id": "C-u1NpKRfyQC",
        "outputId": "e03c3660-c1b2-4962-9534-2e6113eada01"
      },
      "execution_count": null,
      "outputs": [
        {
          "output_type": "stream",
          "name": "stdout",
          "text": [
            "15\n",
            "107\n"
          ]
        }
      ]
    },
    {
      "cell_type": "code",
      "source": [
        "list2=[10,20,30,40,50]\n",
        "x=map(lambda a:a%2==0,list2)\n",
        "print(next(x))\n",
        "print(next(x))"
      ],
      "metadata": {
        "colab": {
          "base_uri": "https://localhost:8080/"
        },
        "id": "HZ3n2U1cga6e",
        "outputId": "c1942e8f-5050-415e-903b-7b748d3caab7"
      },
      "execution_count": null,
      "outputs": [
        {
          "output_type": "stream",
          "name": "stdout",
          "text": [
            "True\n",
            "True\n"
          ]
        }
      ]
    },
    {
      "cell_type": "code",
      "source": [
        "list3=[10,102,3,4,56]\n",
        "list(map(lambda a:a%2==0,list2))"
      ],
      "metadata": {
        "colab": {
          "base_uri": "https://localhost:8080/"
        },
        "id": "BUlR7ezOhS0a",
        "outputId": "d8a3cd6b-8711-4333-a134-0e5da613803c"
      },
      "execution_count": null,
      "outputs": [
        {
          "output_type": "execute_result",
          "data": {
            "text/plain": [
              "[True, True, False, True, True]"
            ]
          },
          "metadata": {},
          "execution_count": 32
        }
      ]
    },
    {
      "cell_type": "code",
      "source": [
        "list3=[10,102,3,4,56]\n",
        "list(filter(lambda a:a%2==0,list2))"
      ],
      "metadata": {
        "colab": {
          "base_uri": "https://localhost:8080/"
        },
        "id": "K1qw7a97hiPV",
        "outputId": "ab854331-7037-49e2-a214-d7f772115bb1"
      },
      "execution_count": null,
      "outputs": [
        {
          "output_type": "execute_result",
          "data": {
            "text/plain": [
              "[10, 102, 4, 56]"
            ]
          },
          "metadata": {},
          "execution_count": 33
        }
      ]
    },
    {
      "cell_type": "code",
      "source": [
        "#Q.1=with zip\n",
        "l1=[10,20,300]\n",
        "l2=[40,50,60]\n",
        "l3=zip(l1,l2)\n",
        "print(dict(l3))"
      ],
      "metadata": {
        "colab": {
          "base_uri": "https://localhost:8080/"
        },
        "id": "3Y6ItGDChtHx",
        "outputId": "561a29a1-879f-45a0-df82-c2fbe2db71b3"
      },
      "execution_count": null,
      "outputs": [
        {
          "output_type": "stream",
          "name": "stdout",
          "text": [
            "{10: 40, 20: 50, 300: 60}\n"
          ]
        }
      ]
    },
    {
      "source": [
        "#without using zip\n",
        "l1 = [10,20,300]\n",
        "l2 = [40,50,60]\n",
        "di = {}\n",
        "for i in l1:\n",
        "    for j in l2:\n",
        "        di[i]=j\n",
        "print(di)"
      ],
      "cell_type": "code",
      "metadata": {
        "colab": {
          "base_uri": "https://localhost:8080/"
        },
        "id": "fYCoJY4IlS6r",
        "outputId": "852fdf1f-a116-4167-8619-f33dccb40170"
      },
      "execution_count": null,
      "outputs": [
        {
          "output_type": "stream",
          "name": "stdout",
          "text": [
            "{10: 60, 20: 60, 300: 60}\n"
          ]
        }
      ]
    },
    {
      "cell_type": "code",
      "source": [
        "#Q.2=\n",
        "students = {\n",
        "    \"Alice\": 85,\n",
        "    \"Bob\": 70,\n",
        "    \"Charlie\": 90,\n",
        "    \"David\": 65,\n",
        "    \"Eve\": 95\n",
        "}\n",
        "score = int(input(\"Enter the score: \"))\n",
        "for name in students:\n",
        "    if students[name] > score:\n",
        "        print(dict(name))"
      ],
      "metadata": {
        "colab": {
          "base_uri": "https://localhost:8080/",
          "height": 193
        },
        "id": "MmjQhpk2lCv8",
        "outputId": "45d4cd59-a483-4ab8-f5ee-c551aa82f85d"
      },
      "execution_count": null,
      "outputs": [
        {
          "name": "stdout",
          "output_type": "stream",
          "text": [
            "Enter the score: 65\n"
          ]
        },
        {
          "output_type": "error",
          "ename": "TypeError",
          "evalue": "'dict' object is not callable",
          "traceback": [
            "\u001b[0;31m---------------------------------------------------------------------------\u001b[0m",
            "\u001b[0;31mTypeError\u001b[0m                                 Traceback (most recent call last)",
            "\u001b[0;32m<ipython-input-11-84f18379cbdb>\u001b[0m in \u001b[0;36m<cell line: 0>\u001b[0;34m()\u001b[0m\n\u001b[1;32m     10\u001b[0m \u001b[0;32mfor\u001b[0m \u001b[0mname\u001b[0m \u001b[0;32min\u001b[0m \u001b[0mstudents\u001b[0m\u001b[0;34m:\u001b[0m\u001b[0;34m\u001b[0m\u001b[0;34m\u001b[0m\u001b[0m\n\u001b[1;32m     11\u001b[0m     \u001b[0;32mif\u001b[0m \u001b[0mstudents\u001b[0m\u001b[0;34m[\u001b[0m\u001b[0mname\u001b[0m\u001b[0;34m]\u001b[0m \u001b[0;34m>\u001b[0m \u001b[0mscore\u001b[0m\u001b[0;34m:\u001b[0m\u001b[0;34m\u001b[0m\u001b[0;34m\u001b[0m\u001b[0m\n\u001b[0;32m---> 12\u001b[0;31m         \u001b[0mprint\u001b[0m\u001b[0;34m(\u001b[0m\u001b[0mdict\u001b[0m\u001b[0;34m(\u001b[0m\u001b[0mname\u001b[0m\u001b[0;34m)\u001b[0m\u001b[0;34m)\u001b[0m\u001b[0;34m\u001b[0m\u001b[0;34m\u001b[0m\u001b[0m\n\u001b[0m",
            "\u001b[0;31mTypeError\u001b[0m: 'dict' object is not callable"
          ]
        }
      ]
    },
    {
      "source": [
        "#Q.2=\n",
        "students = {\n",
        "    \"Alice\": 85,\n",
        "    \"Bob\": 70,\n",
        "    \"Charlie\": 90,\n",
        "    \"David\": 65,\n",
        "    \"Eve\": 95\n",
        "}\n",
        "score = int(input(\"Enter the score: \"))\n",
        "result_dict = {}\n",
        "for name, student_score in students.items():\n",
        "    if student_score > score:\n",
        "        result_dict[name] = student_score\n",
        "print(result_dict)"
      ],
      "cell_type": "code",
      "metadata": {
        "colab": {
          "base_uri": "https://localhost:8080/"
        },
        "id": "ZxnrzRvMfCWm",
        "outputId": "1a720da1-5ac1-4129-c101-05350d78e31e"
      },
      "execution_count": null,
      "outputs": [
        {
          "output_type": "stream",
          "name": "stdout",
          "text": [
            "Enter the score: 65\n",
            "{'Alice': 85, 'Bob': 70, 'Charlie': 90, 'Eve': 95}\n"
          ]
        }
      ]
    },
    {
      "cell_type": "code",
      "source": [
        "# Q3 {10:19,  11:20,  13:None}\n",
        "# delete the key-value pair where the value is none\n",
        "mylist = {10:19,  11:20,  13:None}\n",
        "dict1 = {}\n",
        "for i,j in mylist.items():\n",
        "    if j is not None:\n",
        "        dict1[i]=j\n",
        "\n",
        "print(dict1)"
      ],
      "metadata": {
        "id": "yyFgSqJbnLgP",
        "colab": {
          "base_uri": "https://localhost:8080/"
        },
        "outputId": "b0870f0a-ed3a-4a5c-efbc-5dc78b67ab76"
      },
      "execution_count": null,
      "outputs": [
        {
          "output_type": "stream",
          "name": "stdout",
          "text": [
            "{10: 19, 11: 20}\n"
          ]
        }
      ]
    },
    {
      "cell_type": "code",
      "source": [
        "# Q4:   {\"x\":5, \"y\":7, \"z\":10}\n",
        "# print new dictionary as square of each key {x:25, y:49,  z:100}\n",
        "dict1 ={\"x\":5, \"y\":7, \"z\":10}\n",
        "di ={}\n",
        "for i , j in dict1.items():\n",
        "    di[i] = j**2\n",
        "print(di)"
      ],
      "metadata": {
        "colab": {
          "base_uri": "https://localhost:8080/"
        },
        "id": "8LaLtk29dK50",
        "outputId": "be9eef06-68fa-45ca-cb45-41140d9a51cd"
      },
      "execution_count": null,
      "outputs": [
        {
          "output_type": "stream",
          "name": "stdout",
          "text": [
            "{'x': 25, 'y': 49, 'z': 100}\n"
          ]
        }
      ]
    },
    {
      "cell_type": "code",
      "source": [
        "# Q5\n",
        "# create a dictionary as cube of number from 1 to 5\n",
        "# {1:1, 2:8, 3:27, 4:64, 5:125}\n",
        "# Note use only thing we have learnt\n",
        "dict1 ={\"x\":5, \"y\":7, \"z\":10}\n",
        "di ={}\n",
        "for i , j in dict1.items():\n",
        "    di[i] = j**3\n",
        "print(di)"
      ],
      "metadata": {
        "colab": {
          "base_uri": "https://localhost:8080/"
        },
        "id": "zUKa81hTdXMu",
        "outputId": "c8dce036-dede-4125-e108-af1bb5c8cbbe"
      },
      "execution_count": null,
      "outputs": [
        {
          "output_type": "stream",
          "name": "stdout",
          "text": [
            "{'x': 125, 'y': 343, 'z': 1000}\n"
          ]
        }
      ]
    },
    {
      "cell_type": "code",
      "source": [],
      "metadata": {
        "id": "evv5DuPmdrg5"
      },
      "execution_count": null,
      "outputs": []
    }
  ]
}