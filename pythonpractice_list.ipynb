{
  "cells": [
    {
      "cell_type": "code",
      "execution_count": null,
      "metadata": {
        "colab": {
          "base_uri": "https://localhost:8080/"
        },
        "id": "nApil4i9_2oS",
        "outputId": "5de09da9-ec1a-4c55-9d99-f96162f95df7"
      },
      "outputs": [
        {
          "name": "stdout",
          "output_type": "stream",
          "text": [
            "[10, 20, 30, 40, 'hey', 50, 60, 70, 'h'] i\n"
          ]
        }
      ],
      "source": [
        "#list\n",
        "#collection of element=>multiple type\n",
        "#mutable #index position\n",
        "mylist=[10,20,30,40]\n",
        "mylist.append(\"hey\")\n",
        "mylist.extend([50,60,70])\n",
        "mylist.extend(\"hi\")\n",
        "output=mylist.pop()\n",
        "print(mylist,output)\n"
      ]
    },
    {
      "cell_type": "code",
      "execution_count": null,
      "metadata": {
        "id": "fZROJclPEKed"
      },
      "outputs": [],
      "source": [
        "#swapping methods\n",
        "#first method\n",
        "a=10\n",
        "b=20\n",
        "temp=a\n",
        "a=b\n",
        "b=temp\n",
        "print(a,b)\n",
        "\n",
        "#second method\n",
        "a,b=b,a\n",
        "a=a+b\n",
        "b=a-b\n",
        "a=a-b\n",
        "print(a,b)"
      ]
    },
    {
      "cell_type": "code",
      "execution_count": null,
      "metadata": {
        "colab": {
          "base_uri": "https://localhost:8080/"
        },
        "id": "mi0nAx8_C3Ea",
        "outputId": "fd91eeac-84e8-4a13-b535-91bf033966a5"
      },
      "outputs": [
        {
          "name": "stdout",
          "output_type": "stream",
          "text": [
            "sorting=> [80, 60, 20, 10, 9]\n"
          ]
        }
      ],
      "source": [
        "list2=[10,20,60,80,9]\n",
        "for i in range(0,len(list2)):\n",
        "  for j in range(i+1,len(list2)):\n",
        "    if list2[i]<list2[j]:\n",
        "      list2[i],list2[j]=list2[j],list2[i]\n",
        "print(\"sorting=>\",list2)"
      ]
    },
    {
      "cell_type": "code",
      "execution_count": null,
      "metadata": {
        "colab": {
          "base_uri": "https://localhost:8080/"
        },
        "id": "Z_SozJjZHpgC",
        "outputId": "66e7cb86-0caf-43ef-b43c-a4a97f972218"
      },
      "outputs": [
        {
          "name": "stdout",
          "output_type": "stream",
          "text": [
            "[1, 2, 3, 5, 6]\n"
          ]
        }
      ],
      "source": [
        "s = [1,5,6,2,3]\n",
        "i=0\n",
        "while i < len(s)-1:\n",
        "    if s[i] > s[i+1]:\n",
        "        s[i],s[i+1] = s[i+1],s[i]\n",
        "        i=0\n",
        "    else:\n",
        "        i+=1\n",
        "print(s)"
      ]
    },
    {
      "cell_type": "code",
      "execution_count": null,
      "metadata": {
        "colab": {
          "base_uri": "https://localhost:8080/"
        },
        "id": "-BUP2NeSDlmN",
        "outputId": "1088d9f3-c043-4f5c-cf94-f5a9b127157e"
      },
      "outputs": [
        {
          "name": "stdout",
          "output_type": "stream",
          "text": [
            "5\n"
          ]
        }
      ],
      "source": [
        "#leetcode Q.=>best time to buy and sell stock\n",
        "# prices=[7,1,5,3,6,4]\n",
        "# max_profit=0\n",
        "# for i in range(0,len(prices)):\n",
        "#   for j in range(i+1,len(prices)):\n",
        "#     profit=prices[j]-prices[i]\n",
        "#     if profit>max_profit:\n",
        "#       max_profit=profit\n",
        "# print(max_profit)\n",
        "\n",
        "#or\n",
        "prices=[7,1,5,3,6,4]\n",
        "max_profit=0\n",
        "for i in range(0,len(prices)):\n",
        "  for j in range(i+1,len(prices)):\n",
        "    if (prices[j]-prices[i])>max_profit:\n",
        "      max_profit=prices[j]-prices[i]\n",
        "print(max_profit)\n"
      ]
    },
    {
      "cell_type": "code",
      "execution_count": null,
      "metadata": {
        "colab": {
          "base_uri": "https://localhost:8080/"
        },
        "id": "etTjYSx3R9R5",
        "outputId": "aea46a9f-c59f-4d9e-a8af-6512a534d510"
      },
      "outputs": [
        {
          "name": "stdout",
          "output_type": "stream",
          "text": [
            "5\n"
          ]
        }
      ],
      "source": [
        "# Best time to buy and sell stock using a single loop\n",
        "prices = [7, 1, 5, 3, 6, 4]\n",
        "buy = 0\n",
        "sell = 1\n",
        "max_profit = 0\n",
        "while sell < len(prices):\n",
        "    if prices[buy] < prices[sell]:\n",
        "        profit = prices[sell] - prices[buy]\n",
        "        max_profit = max(max_profit, profit)\n",
        "    else:\n",
        "        buy = sell\n",
        "    sell += 1\n",
        "print(max_profit)"
      ]
    },
    {
      "cell_type": "code",
      "execution_count": null,
      "metadata": {
        "colab": {
          "base_uri": "https://localhost:8080/"
        },
        "id": "0PdcKQQssSAh",
        "outputId": "81d8a2dd-4e22-450f-da77-b6d3582efc74"
      },
      "outputs": [
        {
          "name": "stdout",
          "output_type": "stream",
          "text": [
            "[0, 1]\n"
          ]
        }
      ],
      "source": [
        "#two sum problem=>\n",
        "nums = [2, 7, 11, 15]\n",
        "target = 9\n",
        "\n",
        "for i in range(len(nums)):\n",
        "    for j in range(i + 1, len(nums)):\n",
        "        if nums[i] + nums[j] == target:\n",
        "            print([i, j])"
      ]
    },
    {
      "cell_type": "code",
      "execution_count": null,
      "metadata": {
        "colab": {
          "base_uri": "https://localhost:8080/"
        },
        "id": "ThtRXdAyL8Km",
        "outputId": "c1dc6c39-9dff-4524-aac4-752fa75281c7"
      },
      "outputs": [
        {
          "data": {
            "text/plain": [
              "9"
            ]
          },
          "execution_count": 26,
          "metadata": {},
          "output_type": "execute_result"
        }
      ],
      "source": [
        "mylist=[1,2,4,5,7,36]\n",
        "start=0\n",
        "end=len(mylist)-1\n",
        "target=9\n",
        "end-=1\n",
        "start+=1\n",
        "mylist[start]+mylist[end]"
      ]
    },
    {
      "cell_type": "code",
      "execution_count": null,
      "metadata": {
        "colab": {
          "base_uri": "https://localhost:8080/"
        },
        "id": "mJKclGdizoPg",
        "outputId": "9f7aa1e9-da54-467c-d27b-c10cb4faaef3"
      },
      "outputs": [
        {
          "name": "stdout",
          "output_type": "stream",
          "text": [
            "[1, 2, 4]\n"
          ]
        }
      ],
      "source": [
        "#plus one problem=>\n",
        "digits = [1, 2, 3]\n",
        "num = int(\"\".join(map(str, digits)))\n",
        "num += 1\n",
        "result = [int(digit) for digit in str(num)]\n",
        "print(result)"
      ]
    },
    {
      "cell_type": "code",
      "execution_count": null,
      "metadata": {
        "colab": {
          "base_uri": "https://localhost:8080/"
        },
        "id": "Ksy7FA1f6emy",
        "outputId": "bad12fd5-e7cb-4f61-8be0-9f23996a07db"
      },
      "outputs": [
        {
          "name": "stdout",
          "output_type": "stream",
          "text": [
            "[1, 2, 3, 4, 5, 6]\n"
          ]
        }
      ],
      "source": [
        "#merge two lists,by removing duplicate elements with single loop\n",
        "list1=[1,2,3,4,5,1]\n",
        "list2=[4,5,6,3,2,1]\n",
        "merged_list=list1+list2\n",
        "list3=[]\n",
        "for i in merged_list:\n",
        "  if i not in list3:\n",
        "    list3.append(i)\n",
        "print(list3)"
      ]
    },
    {
      "cell_type": "code",
      "execution_count": null,
      "metadata": {
        "colab": {
          "base_uri": "https://localhost:8080/"
        },
        "id": "Y5VQHftB6tTA",
        "outputId": "74325a4b-b56b-40d8-f55f-1e9885292112"
      },
      "outputs": [
        {
          "name": "stdout",
          "output_type": "stream",
          "text": [
            "-1 2 -1\n"
          ]
        }
      ],
      "source": [
        "#three sum using 3 loops\n",
        "nums = [-1,0,1,2,-1,-4]\n",
        "for i in range(0,len(nums)):\n",
        "  for j in range(i+2,len(nums)):\n",
        "    for k in range(j+1,len(nums)):\n",
        "      if nums[i]+nums[j]+nums[k]==0:\n",
        "        print(nums[i],nums[j],nums[k])"
      ]
    },
    {
      "cell_type": "code",
      "execution_count": 2,
      "metadata": {
        "id": "fjLE6vhvNTt-",
        "colab": {
          "base_uri": "https://localhost:8080/"
        },
        "outputId": "bcdc6151-ca59-4225-b823-01e8aca8722f"
      },
      "outputs": [
        {
          "output_type": "stream",
          "name": "stdout",
          "text": [
            "-1 -1 2\n",
            "-1 0 1\n",
            "-1 0 1\n"
          ]
        }
      ],
      "source": [
        "#three sum using 3 loops\n",
        "nums = [-1,0,1,2,-1,-4]\n",
        "nums.sort()\n",
        "target=0\n",
        "for i in range(len(nums)-2):  # i goes from 0 to len(nums)-3\n",
        "    for j in range(i+1, len(nums)-1):  # j goes from i+1 to len(nums)-2\n",
        "        for k in range(j+1, len(nums)):  # k goes from j+1 to len(nums)-1\n",
        "            if nums[i] + nums[j] + nums[k] == 0:\n",
        "                print(nums[i], nums[j], nums[k])"
      ]
    },
    {
      "cell_type": "code",
      "source": [
        "nums = [-1,0,1,2,-1,-4]\n",
        "nums.sort()\n",
        "newlist=[]\n",
        "for i in range(0,len(nums)-2):\n",
        "    start=i+1\n",
        "    end = len(nums)-1\n",
        "    while(start<end):\n",
        "        if(nums[i] + nums[start] + nums[end] == 0) and  i != start and i != end and start != end:\n",
        "            newlist.append([nums[i],nums[start],nums[end]])\n",
        "            start+=1\n",
        "            end-=1\n",
        "        elif(nums[i] + nums[start] + nums[end] > 0):\n",
        "            end-=1\n",
        "        else:\n",
        "            start+=1\n",
        "print(newlist)"
      ],
      "metadata": {
        "colab": {
          "base_uri": "https://localhost:8080/"
        },
        "id": "vn8569JPgqt3",
        "outputId": "0d9d4b54-3165-456b-82e4-289f4ff6a953"
      },
      "execution_count": 4,
      "outputs": [
        {
          "output_type": "stream",
          "name": "stdout",
          "text": [
            "[[-1, -1, 2], [-1, 0, 1], [-1, 0, 1]]\n"
          ]
        }
      ]
    },
    {
      "cell_type": "code",
      "source": [],
      "metadata": {
        "id": "fgutpnEKg4Mv"
      },
      "execution_count": null,
      "outputs": []
    }
  ],
  "metadata": {
    "colab": {
      "provenance": []
    },
    "kernelspec": {
      "display_name": "Python 3",
      "name": "python3"
    },
    "language_info": {
      "name": "python"
    }
  },
  "nbformat": 4,
  "nbformat_minor": 0
}